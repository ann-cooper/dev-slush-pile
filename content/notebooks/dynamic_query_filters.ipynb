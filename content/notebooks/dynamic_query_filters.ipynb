{
 "cells": [
  {
   "cell_type": "markdown",
   "metadata": {},
   "source": [
    "## Setup\n",
    "- Create the People model to use for our demo table\n",
    "- Connect to the demo sqlite db and create a session we can use for querying "
   ]
  },
  {
   "cell_type": "code",
   "execution_count": 1,
   "metadata": {},
   "outputs": [
    {
     "name": "stdout",
     "output_type": "stream",
     "text": [
      "2024-03-25 17:19:09,176 INFO sqlalchemy.engine.Engine BEGIN (implicit)\n",
      "2024-03-25 17:19:09,176 INFO sqlalchemy.engine.Engine PRAGMA main.table_info(\"people\")\n",
      "2024-03-25 17:19:09,177 INFO sqlalchemy.engine.Engine [raw sql] ()\n",
      "2024-03-25 17:19:09,177 INFO sqlalchemy.engine.Engine PRAGMA temp.table_info(\"people\")\n",
      "2024-03-25 17:19:09,178 INFO sqlalchemy.engine.Engine [raw sql] ()\n",
      "2024-03-25 17:19:09,178 INFO sqlalchemy.engine.Engine \n",
      "CREATE TABLE people (\n",
      "\tid INTEGER NOT NULL, \n",
      "\tname VARCHAR NOT NULL, \n",
      "\trole VARCHAR, \n",
      "\tPRIMARY KEY (id), \n",
      "\tUNIQUE (name)\n",
      ")\n",
      "\n",
      "\n",
      "2024-03-25 17:19:09,178 INFO sqlalchemy.engine.Engine [no key 0.00023s] ()\n",
      "2024-03-25 17:19:09,179 INFO sqlalchemy.engine.Engine COMMIT\n"
     ]
    }
   ],
   "source": [
    "from sqlalchemy.orm import declarative_base\n",
    "from sqlalchemy import Column, Integer, String, create_engine\n",
    "from sqlalchemy.orm import sessionmaker\n",
    "\n",
    "Base = declarative_base()\n",
    "\n",
    "class People(Base):\n",
    "    \"\"\"Characters mentioned and their role in the puzzle.\"\"\"\n",
    "\n",
    "    __tablename__ = \"people\"\n",
    "\n",
    "    id = Column(Integer, primary_key=True, autoincrement=True)\n",
    "    name = Column(String, nullable=False, unique=True)\n",
    "    role = Column(String, nullable=True)\n",
    "\n",
    "engine = create_engine(\"sqlite:///temp_test.db\", echo=True)\n",
    "conn = engine.connect()\n",
    "session = sessionmaker(bind=engine)()\n",
    "Base.metadata.create_all(engine)\n",
    "\n",
    "\n"
   ]
  },
  {
   "cell_type": "markdown",
   "metadata": {},
   "source": [
    "## Add records to the People table\n",
    "- Before we query the table, we'll add 2 records for Sprinkles and Sparkles."
   ]
  },
  {
   "cell_type": "code",
   "execution_count": 2,
   "metadata": {},
   "outputs": [
    {
     "name": "stdout",
     "output_type": "stream",
     "text": [
      "2024-03-25 17:19:09,184 INFO sqlalchemy.engine.Engine BEGIN (implicit)\n",
      "2024-03-25 17:19:09,186 INFO sqlalchemy.engine.Engine INSERT INTO people (id, name, role) VALUES (?, ?, ?)\n",
      "2024-03-25 17:19:09,187 INFO sqlalchemy.engine.Engine [generated in 0.00080s] [(1, 'Sprinkles', 'Test'), (2, 'Sparkles', 'Test')]\n",
      "2024-03-25 17:19:09,188 INFO sqlalchemy.engine.Engine COMMIT\n"
     ]
    }
   ],
   "source": [
    "# Add records to the People table\n",
    "c1 = People(id=1, name=\"Sprinkles\", role=\"Test\")\n",
    "c2 = People(id=2, name=\"Sparkles\", role=\"Test\")\n",
    "session.add(c1)\n",
    "session.add(c2)\n",
    "session.commit()"
   ]
  },
  {
   "cell_type": "markdown",
   "metadata": {},
   "source": [
    "## Create data to query for\n",
    "- Now we create some data that we want to query for. This could be coming in from a user updating some information that the application needs to use to retrieve the correct record. \n",
    "- This example is assuming that the incoming data will have keys that can map meaningfully to the model being used to handle interactions with the database. In this example, all the keys in the *data* dictionary are Column names in the People model. If the data were to have some additional keys that are not present in the People model, that's fine. It would be problematic to have keys that match model Columns accidentally, though."
   ]
  },
  {
   "cell_type": "code",
   "execution_count": 3,
   "metadata": {},
   "outputs": [],
   "source": [
    "# Create some data to query for\n",
    "data = {\"id\": 2, \"name\": \"Sparkles\", \"role\": \"Test\", \"extra\": True}"
   ]
  },
  {
   "cell_type": "markdown",
   "metadata": {},
   "source": [
    "## Dynamically build query filters\n",
    "- It's important the the incoming data to query for has keys that map to Columns in the data model in use.\n",
    "- This approach allows the data model or incoming data request to use any keys and Columns as long as they are in sync with each other.\n",
    "- An approach to building a list of query filters that is often seen is something like:\n",
    "    ```\n",
    "    data = {'id': 5, 'name': 'SKC'}\n",
    "    filters = [(People.id == data.get('id')), (People.name == data.get('name'))]\n",
    "    result = session.query(People).filters(*filters)\n",
    "    ``` \n",
    "    And that's a fine way to do it, but this approach is general to any combination of model and object with some keys that align with the model enough to use to query."
   ]
  },
  {
   "cell_type": "code",
   "execution_count": 4,
   "metadata": {},
   "outputs": [],
   "source": [
    "\n",
    "model = People\n",
    "filters = []\n",
    "# Iterate over data and for each key and value \n",
    "for k, v in data.items():\n",
    "    # Get the column from the model or None\n",
    "    column = getattr(model, k, None)\n",
    "    # If the model has a matching column and the value is truthy, \n",
    "    # then append the column == value statement to the query filters\n",
    "    # This will add 3 statements to the filters list, which will be joined with AND\n",
    "    if column and v:\n",
    "        filters.append((getattr(column, \"__eq__\")(v)))"
   ]
  },
  {
   "cell_type": "markdown",
   "metadata": {},
   "source": [
    "## Check the attributes of the filters"
   ]
  },
  {
   "cell_type": "code",
   "execution_count": 5,
   "metadata": {},
   "outputs": [
    {
     "data": {
      "text/plain": [
       "[{'_orig': (272545802, 272544853),\n",
       "  '_propagate_attrs': immutabledict({'compile_state_plugin': 'orm', 'plugin_subject': <Mapper at 0x108991af0; People>}),\n",
       "  'left': Column('id', Integer(), table=<people>, primary_key=True, nullable=False),\n",
       "  'right': BindParameter('%(4360717648 id)s', 2, type_=Integer()),\n",
       "  'operator': <function _operator.eq(a, b, /)>,\n",
       "  'type': Boolean(),\n",
       "  'negate': <function _operator.ne(a, b, /)>,\n",
       "  '_is_implicitly_boolean': True,\n",
       "  'modifiers': {}},\n",
       " {'_orig': (272544838, 272544928),\n",
       "  '_propagate_attrs': immutabledict({'compile_state_plugin': 'orm', 'plugin_subject': <Mapper at 0x108991af0; People>}),\n",
       "  'left': Column('name', String(), table=<people>, nullable=False),\n",
       "  'right': BindParameter('%(4360718848 name)s', 'Sparkles', type_=String()),\n",
       "  'operator': <function _operator.eq(a, b, /)>,\n",
       "  'type': Boolean(),\n",
       "  'negate': <function _operator.ne(a, b, /)>,\n",
       "  '_is_implicitly_boolean': True,\n",
       "  'modifiers': {}},\n",
       " {'_orig': (272544826, 272545000),\n",
       "  '_propagate_attrs': immutabledict({'compile_state_plugin': 'orm', 'plugin_subject': <Mapper at 0x108991af0; People>}),\n",
       "  'left': Column('role', String(), table=<people>),\n",
       "  'right': BindParameter('%(4360720000 role)s', 'Test', type_=String()),\n",
       "  'operator': <function _operator.eq(a, b, /)>,\n",
       "  'type': Boolean(),\n",
       "  'negate': <function _operator.ne(a, b, /)>,\n",
       "  '_is_implicitly_boolean': True,\n",
       "  'modifiers': {}}]"
      ]
     },
     "execution_count": 5,
     "metadata": {},
     "output_type": "execute_result"
    }
   ],
   "source": [
    "\n",
    "[x.__dict__ for x in filters]"
   ]
  },
  {
   "cell_type": "markdown",
   "metadata": {},
   "source": [
    "## Query using the filters list built by the for loop above"
   ]
  },
  {
   "cell_type": "code",
   "execution_count": 6,
   "metadata": {},
   "outputs": [
    {
     "name": "stdout",
     "output_type": "stream",
     "text": [
      "2024-03-25 17:19:09,221 INFO sqlalchemy.engine.Engine BEGIN (implicit)\n",
      "2024-03-25 17:19:09,229 INFO sqlalchemy.engine.Engine SELECT people.id AS people_id, people.name AS people_name, people.role AS people_role \n",
      "FROM people \n",
      "WHERE people.id = ? AND people.name = ? AND people.role = ?\n",
      "2024-03-25 17:19:09,233 INFO sqlalchemy.engine.Engine [generated in 0.00470s] (2, 'Sparkles', 'Test')\n"
     ]
    }
   ],
   "source": [
    "\n",
    "result = session.query(model).filter(*filters).one_or_none()"
   ]
  },
  {
   "cell_type": "markdown",
   "metadata": {},
   "source": [
    "## Check that it returned the correct record"
   ]
  },
  {
   "cell_type": "code",
   "execution_count": 7,
   "metadata": {},
   "outputs": [
    {
     "data": {
      "text/plain": [
       "'Sparkles'"
      ]
     },
     "execution_count": 7,
     "metadata": {},
     "output_type": "execute_result"
    }
   ],
   "source": [
    "\n",
    "result.name"
   ]
  },
  {
   "cell_type": "markdown",
   "metadata": {},
   "source": [
    "## Clean up: remove db file"
   ]
  },
  {
   "cell_type": "code",
   "execution_count": 8,
   "metadata": {},
   "outputs": [],
   "source": [
    "\n",
    "from pathlib import Path\n",
    "\n",
    "path = Path(\"temp_test.db\")\n",
    "\n",
    "if path.exists():\n",
    "    path.unlink()\n"
   ]
  }
 ],
 "metadata": {
  "kernelspec": {
   "display_name": "cain_10",
   "language": "python",
   "name": "python3"
  },
  "language_info": {
   "codemirror_mode": {
    "name": "ipython",
    "version": 3
   },
   "file_extension": ".py",
   "mimetype": "text/x-python",
   "name": "python",
   "nbconvert_exporter": "python",
   "pygments_lexer": "ipython3",
   "version": "3.9.12"
  }
 },
 "nbformat": 4,
 "nbformat_minor": 2
}
