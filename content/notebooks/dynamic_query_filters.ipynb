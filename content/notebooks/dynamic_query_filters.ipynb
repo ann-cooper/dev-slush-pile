{
 "cells": [
  {
   "cell_type": "code",
   "execution_count": null,
   "metadata": {},
   "outputs": [],
   "source": [
    "from sqlalchemy.ext.declarative import declarative_base\n",
    "from sqlalchemy import Column, Integer, String, create_engine\n",
    "from sqlalchemy.orm import sessionmaker\n",
    "\n",
    "Base = declarative_base()\n",
    "\n",
    "# Set up: Create session and People table with the People model.\n",
    "class People(Base):\n",
    "    \"\"\"Characters mentioned and their role in the puzzle.\"\"\"\n",
    "\n",
    "    __tablename__ = \"people\"\n",
    "\n",
    "    id = Column(Integer, primary_key=True, autoincrement=True)\n",
    "    name = Column(String, nullable=False, unique=True)\n",
    "    role = Column(String, nullable=True)\n",
    "\n",
    "engine = create_engine(\"sqlite:///temp_test.db\", echo=True)\n",
    "conn = engine.connect()\n",
    "session = sessionmaker(bind=engine)()\n",
    "Base.metadata.create_all(engine)\n",
    "\n",
    "\n"
   ]
  },
  {
   "cell_type": "code",
   "execution_count": null,
   "metadata": {},
   "outputs": [],
   "source": [
    "# Add records to the People table\n",
    "c1 = People(id=1, name=\"Sprinkles\", role=\"Test\")\n",
    "c2 = People(id=2, name=\"Sparkles\", role=\"Test\")\n",
    "session.add(c1)\n",
    "session.add(c2)\n",
    "session.commit()"
   ]
  },
  {
   "cell_type": "code",
   "execution_count": null,
   "metadata": {},
   "outputs": [],
   "source": [
    "# Create some data to query for\n",
    "data = {\"id\": 2, \"name\": \"Sparkles\", \"role\": \"Test\"}"
   ]
  },
  {
   "cell_type": "code",
   "execution_count": null,
   "metadata": {},
   "outputs": [],
   "source": [
    "# Generic functionality that uses the incoming data to form sqlalchemy queries \n",
    "model = People\n",
    "filters = []\n",
    "# Iterate over the dictionary and for each key, check if the model has a column of the same name\n",
    "for k, v in data.items():\n",
    "    # Get the column from the model or None\n",
    "    column = getattr(model, k, None)\n",
    "    # If the model has a matching column and the value is truthy, then append the column == value statement to the query filters\n",
    "    # This will add 3 statements to the filters list, which will be joined with AND\n",
    "    if column and v:\n",
    "        filters.append((getattr(column, \"__eq__\")(v)))"
   ]
  },
  {
   "cell_type": "code",
   "execution_count": null,
   "metadata": {},
   "outputs": [],
   "source": [
    "# Check the attributes of the filters\n",
    "[x.__dict__ for x in filters]"
   ]
  },
  {
   "cell_type": "code",
   "execution_count": null,
   "metadata": {},
   "outputs": [],
   "source": [
    "# Query using the filters list built by the for loop\n",
    "result = session.query(model).filter(*filters).one_or_none()"
   ]
  },
  {
   "cell_type": "code",
   "execution_count": null,
   "metadata": {},
   "outputs": [],
   "source": [
    "# Check that it returned the correct record\n",
    "result.name"
   ]
  },
  {
   "cell_type": "code",
   "execution_count": null,
   "metadata": {},
   "outputs": [],
   "source": [
    "# Clean up: remove db file\n",
    "from pathlib import Path\n",
    "\n",
    "path = Path(\"temp_test.db\")\n",
    "\n",
    "if path.exists():\n",
    "    path.unlink()\n"
   ]
  }
 ],
 "metadata": {
  "kernelspec": {
   "display_name": "cain_10",
   "language": "python",
   "name": "python3"
  },
  "language_info": {
   "codemirror_mode": {
    "name": "ipython",
    "version": 3
   },
   "file_extension": ".py",
   "mimetype": "text/x-python",
   "name": "python",
   "nbconvert_exporter": "python",
   "pygments_lexer": "ipython3",
   "version": "3.10.10"
  }
 },
 "nbformat": 4,
 "nbformat_minor": 2
}
