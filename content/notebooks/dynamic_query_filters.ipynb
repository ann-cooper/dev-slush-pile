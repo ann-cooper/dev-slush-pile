{
 "cells": [
  {
   "cell_type": "code",
   "execution_count": 57,
   "metadata": {},
   "outputs": [
    {
     "name": "stdout",
     "output_type": "stream",
     "text": [
      "2024-03-25 07:49:19,517 INFO sqlalchemy.engine.Engine BEGIN (implicit)\n",
      "2024-03-25 07:49:19,518 INFO sqlalchemy.engine.Engine PRAGMA main.table_info(\"people\")\n",
      "2024-03-25 07:49:19,518 INFO sqlalchemy.engine.Engine [raw sql] ()\n",
      "2024-03-25 07:49:19,519 INFO sqlalchemy.engine.Engine PRAGMA temp.table_info(\"people\")\n",
      "2024-03-25 07:49:19,519 INFO sqlalchemy.engine.Engine [raw sql] ()\n",
      "2024-03-25 07:49:19,520 INFO sqlalchemy.engine.Engine \n",
      "CREATE TABLE people (\n",
      "\tid INTEGER NOT NULL, \n",
      "\tname VARCHAR NOT NULL, \n",
      "\trole VARCHAR, \n",
      "\tPRIMARY KEY (id), \n",
      "\tUNIQUE (name)\n",
      ")\n",
      "\n",
      "\n",
      "2024-03-25 07:49:19,520 INFO sqlalchemy.engine.Engine [no key 0.00030s] ()\n",
      "2024-03-25 07:49:19,521 INFO sqlalchemy.engine.Engine COMMIT\n"
     ]
    }
   ],
   "source": [
    "from sqlalchemy.orm import declarative_base\n",
    "from sqlalchemy import Column, Integer, String, create_engine\n",
    "from sqlalchemy.orm import sessionmaker\n",
    "\n",
    "Base = declarative_base()\n",
    "\n",
    "# Set up: Create session and People table with the People model.\n",
    "class People(Base):\n",
    "    \"\"\"Characters mentioned and their role in the puzzle.\"\"\"\n",
    "\n",
    "    __tablename__ = \"people\"\n",
    "\n",
    "    id = Column(Integer, primary_key=True, autoincrement=True)\n",
    "    name = Column(String, nullable=False, unique=True)\n",
    "    role = Column(String, nullable=True)\n",
    "\n",
    "engine = create_engine(\"sqlite:///temp_test.db\", echo=True)\n",
    "conn = engine.connect()\n",
    "session = sessionmaker(bind=engine)()\n",
    "Base.metadata.create_all(engine)\n",
    "\n",
    "\n"
   ]
  },
  {
   "cell_type": "code",
   "execution_count": 58,
   "metadata": {},
   "outputs": [
    {
     "name": "stdout",
     "output_type": "stream",
     "text": [
      "2024-03-25 07:49:19,526 INFO sqlalchemy.engine.Engine BEGIN (implicit)\n",
      "2024-03-25 07:49:19,528 INFO sqlalchemy.engine.Engine INSERT INTO people (id, name, role) VALUES (?, ?, ?)\n",
      "2024-03-25 07:49:19,529 INFO sqlalchemy.engine.Engine [generated in 0.00103s] [(1, 'Sprinkles', 'Test'), (2, 'Sparkles', 'Test')]\n",
      "2024-03-25 07:49:19,530 INFO sqlalchemy.engine.Engine COMMIT\n"
     ]
    }
   ],
   "source": [
    "# Add records to the People table\n",
    "c1 = People(id=1, name=\"Sprinkles\", role=\"Test\")\n",
    "c2 = People(id=2, name=\"Sparkles\", role=\"Test\")\n",
    "session.add(c1)\n",
    "session.add(c2)\n",
    "session.commit()"
   ]
  },
  {
   "cell_type": "code",
   "execution_count": 59,
   "metadata": {},
   "outputs": [],
   "source": [
    "# Create some data to query for\n",
    "data = {\"id\": 2, \"name\": \"Sparkles\", \"role\": \"Test\"}"
   ]
  },
  {
   "cell_type": "code",
   "execution_count": 60,
   "metadata": {},
   "outputs": [],
   "source": [
    "# Generic functionality that uses the incoming data to form sqlalchemy queries \n",
    "model = People\n",
    "filters = []\n",
    "# Iterate over the dictionary and for each key, and \n",
    "# check whether the model has a column of the same name\n",
    "for k, v in data.items():\n",
    "    # Get the column from the model or None\n",
    "    column = getattr(model, k, None)\n",
    "    # If the model has a matching column and the value is truthy, \n",
    "    # then append the column == value statement to the query filters\n",
    "    # This will add 3 statements to the filters list, which will be joined with AND\n",
    "    if column and v:\n",
    "        filters.append((getattr(column, \"__eq__\")(v)))"
   ]
  },
  {
   "cell_type": "code",
   "execution_count": 61,
   "metadata": {},
   "outputs": [
    {
     "data": {
      "text/plain": [
       "[{'_orig': (282860879, 282860834),\n",
       "  '_propagate_attrs': immutabledict({'compile_state_plugin': 'orm', 'plugin_subject': <Mapper at 0x10dc17e50; People>}),\n",
       "  'left': Column('id', Integer(), table=<people>, primary_key=True, nullable=False),\n",
       "  'right': BindParameter('%(4525773344 id)s', 2, type_=Integer()),\n",
       "  'operator': <function _operator.eq(a, b, /)>,\n",
       "  'type': Boolean(),\n",
       "  'negate': <function _operator.ne(a, b, /)>,\n",
       "  '_is_implicitly_boolean': True,\n",
       "  'modifiers': {}},\n",
       " {'_orig': (282860891, 282860867),\n",
       "  '_propagate_attrs': immutabledict({'compile_state_plugin': 'orm', 'plugin_subject': <Mapper at 0x10dc17e50; People>}),\n",
       "  'left': Column('name', String(), table=<people>, nullable=False),\n",
       "  'right': BindParameter('%(4525773872 name)s', 'Sparkles', type_=String()),\n",
       "  'operator': <function _operator.eq(a, b, /)>,\n",
       "  'type': Boolean(),\n",
       "  'negate': <function _operator.ne(a, b, /)>,\n",
       "  '_is_implicitly_boolean': True,\n",
       "  'modifiers': {}},\n",
       " {'_orig': (282859508, 282860981),\n",
       "  '_propagate_attrs': immutabledict({'compile_state_plugin': 'orm', 'plugin_subject': <Mapper at 0x10dc17e50; People>}),\n",
       "  'left': Column('role', String(), table=<people>),\n",
       "  'right': BindParameter('%(4525775696 role)s', 'Test', type_=String()),\n",
       "  'operator': <function _operator.eq(a, b, /)>,\n",
       "  'type': Boolean(),\n",
       "  'negate': <function _operator.ne(a, b, /)>,\n",
       "  '_is_implicitly_boolean': True,\n",
       "  'modifiers': {}}]"
      ]
     },
     "execution_count": 61,
     "metadata": {},
     "output_type": "execute_result"
    }
   ],
   "source": [
    "# Check the attributes of the filters\n",
    "[x.__dict__ for x in filters]"
   ]
  },
  {
   "cell_type": "code",
   "execution_count": 62,
   "metadata": {},
   "outputs": [
    {
     "name": "stdout",
     "output_type": "stream",
     "text": [
      "2024-03-25 07:49:19,551 INFO sqlalchemy.engine.Engine BEGIN (implicit)\n",
      "2024-03-25 07:49:19,552 INFO sqlalchemy.engine.Engine SELECT people.id AS people_id, people.name AS people_name, people.role AS people_role \n",
      "FROM people \n",
      "WHERE people.id = ? AND people.name = ? AND people.role = ?\n",
      "2024-03-25 07:49:19,553 INFO sqlalchemy.engine.Engine [generated in 0.00053s] (2, 'Sparkles', 'Test')\n"
     ]
    }
   ],
   "source": [
    "# Query using the filters list built by the for loop\n",
    "result = session.query(model).filter(*filters).one_or_none()"
   ]
  },
  {
   "cell_type": "code",
   "execution_count": 63,
   "metadata": {},
   "outputs": [
    {
     "data": {
      "text/plain": [
       "'Sparkles'"
      ]
     },
     "execution_count": 63,
     "metadata": {},
     "output_type": "execute_result"
    }
   ],
   "source": [
    "# Check that it returned the correct record\n",
    "result.name"
   ]
  },
  {
   "cell_type": "code",
   "execution_count": 64,
   "metadata": {},
   "outputs": [],
   "source": [
    "# Clean up: remove db file\n",
    "from pathlib import Path\n",
    "\n",
    "path = Path(\"temp_test.db\")\n",
    "\n",
    "if path.exists():\n",
    "    path.unlink()\n"
   ]
  }
 ],
 "metadata": {
  "kernelspec": {
   "display_name": "cain_10",
   "language": "python",
   "name": "python3"
  },
  "language_info": {
   "codemirror_mode": {
    "name": "ipython",
    "version": 3
   },
   "file_extension": ".py",
   "mimetype": "text/x-python",
   "name": "python",
   "nbconvert_exporter": "python",
   "pygments_lexer": "ipython3",
   "version": "3.10.10"
  }
 },
 "nbformat": 4,
 "nbformat_minor": 2
}
